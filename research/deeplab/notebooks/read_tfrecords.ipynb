{
 "cells": [
  {
   "cell_type": "code",
   "execution_count": 24,
   "metadata": {},
   "outputs": [],
   "source": [
    "import os, sys, glob\n",
    "import tensorflow as tf\n",
    "import segmentation_dataset"
   ]
  },
  {
   "cell_type": "code",
   "execution_count": 6,
   "metadata": {},
   "outputs": [],
   "source": [
    "tfrecords = glob.glob(\"../datasets/check_localization/tfrecord/*\")"
   ]
  },
  {
   "cell_type": "code",
   "execution_count": 8,
   "metadata": {},
   "outputs": [
    {
     "data": {
      "text/plain": [
       "32"
      ]
     },
     "execution_count": 8,
     "metadata": {},
     "output_type": "execute_result"
    }
   ],
   "source": [
    "len(tfrecords)"
   ]
  },
  {
   "cell_type": "code",
   "execution_count": 32,
   "metadata": {},
   "outputs": [],
   "source": [
    "slim = tf.contrib.slim\n",
    "\n",
    "dataset_data_provider = slim.dataset_data_provider\n",
    "\n",
    "\n",
    "def _get_data(data_provider, dataset_split):\n",
    "  \"\"\"Gets data from data provider.\n",
    "\n",
    "  Args:\n",
    "    data_provider: An object of slim.data_provider.\n",
    "    dataset_split: Dataset split.\n",
    "\n",
    "  Returns:\n",
    "    image: Image Tensor.\n",
    "    label: Label Tensor storing segmentation annotations.\n",
    "    image_name: Image name.\n",
    "    height: Image height.\n",
    "    width: Image width.\n",
    "\n",
    "  Raises:\n",
    "    ValueError: Failed to find label.\n",
    "  \"\"\"\n",
    "  if 'labels_class' not in data_provider.list_items():\n",
    "    raise ValueError('Failed to find labels.')\n",
    "\n",
    "  image, height, width = data_provider.get(\n",
    "      ['image', 'height', 'width'])\n",
    "\n",
    "  # Some datasets do not contain image_name.\n",
    "  if 'image_name' in data_provider.list_items():\n",
    "    image_name, = data_provider.get(['image_name'])\n",
    "  else:\n",
    "    image_name = tf.constant('')\n",
    "\n",
    "  label = None\n",
    "  if dataset_split != 'test':\n",
    "    label, = data_provider.get(['labels_class'])\n",
    "\n",
    "  return image, label, image_name, height, width\n",
    "\n",
    "is_training = True\n",
    "dataset = segmentation_dataset.get_dataset('check_localization', \n",
    "                                           'train', \n",
    "                                           dataset_dir=\"../datasets/check_localization/tfrecord\")\n",
    "data_provider = dataset_data_provider.DatasetDataProvider(\n",
    "      dataset,\n",
    "      num_readers=1,\n",
    "      num_epochs=None if is_training else 1,\n",
    "      shuffle=is_training)\n",
    "\n",
    "image, label, image_name, height, width = _get_data(data_provider, 'train')"
   ]
  },
  {
   "cell_type": "code",
   "execution_count": 38,
   "metadata": {},
   "outputs": [
    {
     "data": {
      "text/plain": [
       "<tf.Tensor 'case_6/cond/Merge:0' shape=(?, ?, 3) dtype=uint8>"
      ]
     },
     "execution_count": 38,
     "metadata": {},
     "output_type": "execute_result"
    }
   ],
   "source": [
    "image"
   ]
  },
  {
   "cell_type": "code",
   "execution_count": 17,
   "metadata": {},
   "outputs": [
    {
     "ename": "NameError",
     "evalue": "name 'image_data' is not defined",
     "output_type": "error",
     "traceback": [
      "\u001b[0;31m---------------------------------------------------------------------------\u001b[0m",
      "\u001b[0;31mNameError\u001b[0m                                 Traceback (most recent call last)",
      "\u001b[0;32m<ipython-input-17-6a6e9077e3fd>\u001b[0m in \u001b[0;36m<module>\u001b[0;34m()\u001b[0m\n\u001b[1;32m      3\u001b[0m \u001b[0;31m# Even when reading in multiple threads, share the filename\u001b[0m\u001b[0;34m\u001b[0m\u001b[0;34m\u001b[0m\u001b[0m\n\u001b[1;32m      4\u001b[0m \u001b[0;31m# queue.\u001b[0m\u001b[0;34m\u001b[0m\u001b[0;34m\u001b[0m\u001b[0m\n\u001b[0;32m----> 5\u001b[0;31m \u001b[0mimage\u001b[0m\u001b[0;34m,\u001b[0m \u001b[0mannotation\u001b[0m \u001b[0;34m=\u001b[0m \u001b[0mread_and_decode\u001b[0m\u001b[0;34m(\u001b[0m\u001b[0mfilename\u001b[0m\u001b[0;34m)\u001b[0m\u001b[0;34m\u001b[0m\u001b[0m\n\u001b[0m\u001b[1;32m      6\u001b[0m \u001b[0;34m\u001b[0m\u001b[0m\n\u001b[1;32m      7\u001b[0m \u001b[0;31m# The op for initializing the variables.\u001b[0m\u001b[0;34m\u001b[0m\u001b[0;34m\u001b[0m\u001b[0m\n",
      "\u001b[0;32m<ipython-input-16-636ccb624fa3>\u001b[0m in \u001b[0;36mread_and_decode\u001b[0;34m(filename)\u001b[0m\n\u001b[1;32m     35\u001b[0m \u001b[0;34m\u001b[0m\u001b[0m\n\u001b[1;32m     36\u001b[0m     features=tf.train.Features(\n\u001b[0;32m---> 37\u001b[0;31m         feature={'image/encoded': _bytes_list_feature(image_data),\n\u001b[0m\u001b[1;32m     38\u001b[0m                  \u001b[0;34m'image/filename'\u001b[0m\u001b[0;34m:\u001b[0m \u001b[0m_bytes_list_feature\u001b[0m\u001b[0;34m(\u001b[0m\u001b[0mfilename\u001b[0m\u001b[0;34m)\u001b[0m\u001b[0;34m,\u001b[0m\u001b[0;34m\u001b[0m\u001b[0m\n\u001b[1;32m     39\u001b[0m                  'image/format': _bytes_list_feature(\n",
      "\u001b[0;31mNameError\u001b[0m: name 'image_data' is not defined"
     ]
    }
   ],
   "source": [
    "filename = tf.train.string_input_producer([tfrecords[0]], num_epochs=10)\n",
    "\n",
    "# Even when reading in multiple threads, share the filename\n",
    "# queue.\n",
    "image, annotation = read_and_decode(filename)\n",
    "\n",
    "# The op for initializing the variables.\n",
    "init_op = tf.group(tf.global_variables_initializer(),\n",
    "                   tf.local_variables_initializer())\n",
    "\n",
    "with tf.Session()  as sess:\n",
    "    \n",
    "    sess.run(init_op)\n",
    "    \n",
    "    coord = tf.train.Coordinator()\n",
    "    threads = tf.train.start_queue_runners(coord=coord)\n",
    "    \n",
    "    # Let's read off 3 batches just for example\n",
    "    for i in xrange(3):\n",
    "    \n",
    "        img, anno = sess.run([image, annotation])"
   ]
  },
  {
   "cell_type": "code",
   "execution_count": 16,
   "metadata": {},
   "outputs": [],
   "source": [
    "def _int64_list_feature(values):\n",
    "  \"\"\"Returns a TF-Feature of int64_list.\n",
    "\n",
    "  Args:\n",
    "    values: A scalar or list of values.\n",
    "\n",
    "  Returns:\n",
    "    A TF-Feature.\n",
    "  \"\"\"\n",
    "  if not isinstance(values, collections.Iterable):\n",
    "    values = [values]\n",
    "\n",
    "  return tf.train.Feature(int64_list=tf.train.Int64List(value=values))\n",
    "\n",
    "def _bytes_list_feature(values):\n",
    "  \"\"\"Returns a TF-Feature of bytes.\n",
    "\n",
    "  Args:\n",
    "    values: A string.\n",
    "\n",
    "  Returns:\n",
    "    A TF-Feature.\n",
    "  \"\"\"\n",
    "  def norm2bytes(value):\n",
    "    return value.encode() if isinstance(value, str) and six.PY3 else value\n",
    "\n",
    "  return tf.train.Feature(\n",
    "      bytes_list=tf.train.BytesList(value=[norm2bytes(values)]))\n",
    "\n",
    "def read_and_decode(filename):\n",
    "    \n",
    "    reader = tf.TFRecordReader()\n",
    "\n",
    "    _, serialized_example = reader.read(filename)\n",
    "\n",
    "    features = tf.parse_single_example(serialized_example, \n",
    "        feature={'image/encoded': _bytes_list_feature(image_data),\n",
    "                 'image/filename': _bytes_list_feature(filename),\n",
    "                 'image/format': _bytes_list_feature(\n",
    "                                    _IMAGE_FORMAT_MAP[FLAGS.image_format]),\n",
    "                 'image/height': _int64_list_feature(height),\n",
    "                 'image/width': _int64_list_feature(width),\n",
    "                 'image/channels': _int64_list_feature(3),\n",
    "                 'image/segmentation/class/encoded': (_bytes_list_feature(seg_data)),\n",
    "                 'image/segmentation/class/format': _bytes_list_feature(FLAGS.label_format),\n",
    "                })\n",
    "\n",
    "    # Convert from a scalar string tensor (whose single string has\n",
    "    # length mnist.IMAGE_PIXELS) to a uint8 tensor with shape\n",
    "    # [mnist.IMAGE_PIXELS].\n",
    "    image = tf.decode_raw(features['image/encoded'], tf.uint8)\n",
    "    annotation = tf.decode_raw(features['image/segmentation/class/encoded'], tf.uint8)\n",
    "    \n",
    "    height = tf.cast(features['image/height'], tf.int32)\n",
    "    width = tf.cast(features['image/width'], tf.int32)\n",
    "    \n",
    "    image_shape = tf.pack([height, width, 3])\n",
    "    annotation_shape = tf.pack([height, width, 1])\n",
    "    \n",
    "    image = tf.reshape(image, image_shape)\n",
    "    annotation = tf.reshape(annotation, annotation_shape)\n",
    "    \n",
    "#     image_size_const = tf.constant((IMAGE_HEIGHT, IMAGE_WIDTH, 3), dtype=tf.int32)\n",
    "#     annotation_size_const = tf.constant((IMAGE_HEIGHT, IMAGE_WIDTH, 1), dtype=tf.int32)\n",
    "    \n",
    "    # Random transformations can be put here: right before you crop images\n",
    "    # to predefined size. To get more information look at the stackoverflow\n",
    "    # question linked above.\n",
    "    \n",
    "#     resized_image = tf.image.resize_image_with_crop_or_pad(image=image,\n",
    "#                                            target_height=IMAGE_HEIGHT,\n",
    "#                                            target_width=IMAGE_WIDTH)\n",
    "    \n",
    "#     resized_annotation = tf.image.resize_image_with_crop_or_pad(image=annotation,\n",
    "#                                            target_height=IMAGE_HEIGHT,\n",
    "#                                            target_width=IMAGE_WIDTH)\n",
    "    \n",
    "    \n",
    "#     images, annotations = tf.train.shuffle_batch( [resized_image, resized_annotation],\n",
    "#                                                  batch_size=2,\n",
    "#                                                  capacity=30,\n",
    "#                                                  num_threads=2,\n",
    "#                                                  min_after_dequeue=10)\n",
    "    \n",
    "    return image, annotation"
   ]
  }
 ],
 "metadata": {
  "kernelspec": {
   "display_name": "Python [conda env:tf]",
   "language": "python",
   "name": "conda-env-tf-py"
  },
  "language_info": {
   "codemirror_mode": {
    "name": "ipython",
    "version": 3
   },
   "file_extension": ".py",
   "mimetype": "text/x-python",
   "name": "python",
   "nbconvert_exporter": "python",
   "pygments_lexer": "ipython3",
   "version": "3.6.6"
  }
 },
 "nbformat": 4,
 "nbformat_minor": 2
}
